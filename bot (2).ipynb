{
  "nbformat": 4,
  "nbformat_minor": 0,
  "metadata": {
    "colab": {
      "name": "bot.ipynb",
      "provenance": [],
      "collapsed_sections": []
    },
    "kernelspec": {
      "name": "python3",
      "display_name": "Python 3"
    },
    "language_info": {
      "name": "python"
    }
  },
  "cells": [
    {
      "cell_type": "code",
      "execution_count": null,
      "metadata": {
        "id": "MoLx_ZxSWUlT"
      },
      "outputs": [],
      "source": [
        "!pip install pyTelegramBotAPI"
      ]
    },
    {
      "cell_type": "code",
      "source": [
        "!pip install transformers"
      ],
      "metadata": {
        "id": "FYMozyThlMjC"
      },
      "execution_count": null,
      "outputs": []
    },
    {
      "cell_type": "code",
      "source": [
        "!pip install wikipedia"
      ],
      "metadata": {
        "id": "K574Z8CKsJhY"
      },
      "execution_count": null,
      "outputs": []
    },
    {
      "cell_type": "code",
      "source": [
        "import os\n",
        "\n",
        "os.environ[\"TelToken\"] = 'set the token variable'"
      ],
      "metadata": {
        "id": "p3Lt3WHdhRwS"
      },
      "execution_count": 1,
      "outputs": []
    },
    {
      "cell_type": "code",
      "source": [
        "from transformers import pipeline\n",
        "pipe = pipeline(task='question-answering',model='distilbert-base-uncased')"
      ],
      "metadata": {
        "id": "0KPNGSNhlQ9g"
      },
      "execution_count": null,
      "outputs": []
    },
    {
      "cell_type": "code",
      "source": [
        "import telebot\n",
        "import wikipedia\n",
        "import os\n",
        "\n",
        "topic = [1]\n",
        "def response(topic, question):\n",
        "  context = wikipedia.summary(topic)\n",
        "  return pipe(question=question, context= f'{context}')['answer']\n",
        "\n",
        "\n",
        "token = os.environ[\"TelToken\"]\n",
        "\n",
        "bot = telebot.TeleBot(token)\n",
        "\n",
        "@bot.message_handler(commands=['start', 'help'])\n",
        "def send_welcome(message):\n",
        "\tbot.reply_to(message, \"Hi\")\n",
        "\n",
        "message_status = [1]\n",
        "message_status[0] = 0\n",
        "@bot.message_handler(func=lambda message: message_status[0] == 0 )\n",
        "def echo_one(message):\n",
        "    message_status[0] = 1\n",
        "    bot.reply_to(message, \"tell me a subject you wanted to talk about.\")\n",
        "    \n",
        "@bot.message_handler(func=lambda message: message_status[0] == 1 )\n",
        "def echo_two(message):\n",
        "    topic[0] = message.text\n",
        "    message_status[0] = 2\n",
        "    bot.reply_to(message, \"please ask a question.\")\n",
        "\n",
        "\n",
        "@bot.message_handler(func=lambda message: message_status[0] == 2 )\n",
        "def echo_two(message):\n",
        "    message_status[0] = 1\n",
        "    bot.reply_to(message, response(topic[0],message.text))\n",
        "    bot.reply_to(message, \"please choose another subject you wanted to talk about.\")\n",
        "\n",
        "bot.infinity_polling()"
      ],
      "metadata": {
        "id": "_2gbVyUBWgyD"
      },
      "execution_count": null,
      "outputs": []
    }
  ]
}