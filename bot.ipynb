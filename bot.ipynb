{
  "nbformat": 4,
  "nbformat_minor": 0,
  "metadata": {
    "colab": {
      "name": "bot.ipynb",
      "provenance": [],
      "collapsed_sections": []
    },
    "kernelspec": {
      "name": "python3",
      "display_name": "Python 3"
    },
    "language_info": {
      "name": "python"
    }
  },
  "cells": [
    {
      "cell_type": "code",
      "execution_count": 1,
      "metadata": {
        "colab": {
          "base_uri": "https://localhost:8080/"
        },
        "id": "MoLx_ZxSWUlT",
        "outputId": "c31b67f1-3a35-4374-b6ce-c29c293acb63"
      },
      "outputs": [
        {
          "output_type": "stream",
          "name": "stdout",
          "text": [
            "Collecting pyTelegramBotAPI\n",
            "  Downloading pyTelegramBotAPI-4.5.0.tar.gz (156 kB)\n",
            "\u001b[?25l\r\u001b[K     |██                              | 10 kB 19.1 MB/s eta 0:00:01\r\u001b[K     |████▏                           | 20 kB 12.1 MB/s eta 0:00:01\r\u001b[K     |██████▎                         | 30 kB 4.7 MB/s eta 0:00:01\r\u001b[K     |████████▍                       | 40 kB 5.8 MB/s eta 0:00:01\r\u001b[K     |██████████▌                     | 51 kB 4.1 MB/s eta 0:00:01\r\u001b[K     |████████████▋                   | 61 kB 4.8 MB/s eta 0:00:01\r\u001b[K     |██████████████▊                 | 71 kB 5.4 MB/s eta 0:00:01\r\u001b[K     |████████████████▉               | 81 kB 4.8 MB/s eta 0:00:01\r\u001b[K     |███████████████████             | 92 kB 5.3 MB/s eta 0:00:01\r\u001b[K     |█████████████████████           | 102 kB 5.1 MB/s eta 0:00:01\r\u001b[K     |███████████████████████         | 112 kB 5.1 MB/s eta 0:00:01\r\u001b[K     |█████████████████████████▏      | 122 kB 5.1 MB/s eta 0:00:01\r\u001b[K     |███████████████████████████▎    | 133 kB 5.1 MB/s eta 0:00:01\r\u001b[K     |█████████████████████████████▍  | 143 kB 5.1 MB/s eta 0:00:01\r\u001b[K     |███████████████████████████████▌| 153 kB 5.1 MB/s eta 0:00:01\r\u001b[K     |████████████████████████████████| 156 kB 5.1 MB/s \n",
            "\u001b[?25hRequirement already satisfied: requests in /usr/local/lib/python3.7/dist-packages (from pyTelegramBotAPI) (2.23.0)\n",
            "Requirement already satisfied: chardet<4,>=3.0.2 in /usr/local/lib/python3.7/dist-packages (from requests->pyTelegramBotAPI) (3.0.4)\n",
            "Requirement already satisfied: certifi>=2017.4.17 in /usr/local/lib/python3.7/dist-packages (from requests->pyTelegramBotAPI) (2021.10.8)\n",
            "Requirement already satisfied: idna<3,>=2.5 in /usr/local/lib/python3.7/dist-packages (from requests->pyTelegramBotAPI) (2.10)\n",
            "Requirement already satisfied: urllib3!=1.25.0,!=1.25.1,<1.26,>=1.21.1 in /usr/local/lib/python3.7/dist-packages (from requests->pyTelegramBotAPI) (1.24.3)\n",
            "Building wheels for collected packages: pyTelegramBotAPI\n",
            "  Building wheel for pyTelegramBotAPI (setup.py) ... \u001b[?25l\u001b[?25hdone\n",
            "  Created wheel for pyTelegramBotAPI: filename=pyTelegramBotAPI-4.5.0-py3-none-any.whl size=136736 sha256=b8e122c526369a16391eef617fa8fb21306fc90ea7dbfa2aa405251611b31625\n",
            "  Stored in directory: /root/.cache/pip/wheels/46/b8/65/bfdbfcbe272acf9de269d7c4edcd40da0cca514c66483923e6\n",
            "Successfully built pyTelegramBotAPI\n",
            "Installing collected packages: pyTelegramBotAPI\n",
            "Successfully installed pyTelegramBotAPI-4.5.0\n"
          ]
        }
      ],
      "source": [
        "!pip install pyTelegramBotAPI"
      ]
    },
    {
      "cell_type": "code",
      "source": [
        "import telebot\n",
        "\n",
        "\n",
        "bot = telebot.TeleBot('5367098502:AAFe6D4Q4cfZTVPNZFcr9asQ8fWf4BbvQYo')\n",
        "\n",
        "@bot.message_handler(commands=['start', 'help'])\n",
        "def send_welcome(message):\n",
        "\tbot.reply_to(message, \"Hi\")\n",
        " \n",
        "@bot.message_handler(func=lambda message: True)\n",
        "def echo_all(message):\n",
        "\tbot.reply_to(message, message.text)\n",
        "\n",
        "bot.infinity_polling()"
      ],
      "metadata": {
        "colab": {
          "base_uri": "https://localhost:8080/"
        },
        "id": "_2gbVyUBWgyD",
        "outputId": "1223abc0-85af-4210-c4c9-6efd2a1be1de"
      },
      "execution_count": 9,
      "outputs": [
        {
          "output_type": "stream",
          "name": "stderr",
          "text": [
            "2022-05-04 09:55:44,989 (__init__.py:579 MainThread) ERROR - TeleBot: \"Infinity polling: polling exited\"\n",
            "2022-05-04 09:55:44,992 (__init__.py:581 MainThread) ERROR - TeleBot: \"Break infinity polling\"\n"
          ]
        }
      ]
    }
  ]
}